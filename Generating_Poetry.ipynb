{
  "nbformat": 4,
  "nbformat_minor": 0,
  "metadata": {
    "colab": {
      "name": "Generating Poetry.ipynb",
      "provenance": [],
      "collapsed_sections": [],
      "authorship_tag": "ABX9TyM70jSeUw+X88GjMUwmti1F",
      "include_colab_link": true
    },
    "kernelspec": {
      "name": "python3",
      "display_name": "Python 3"
    },
    "accelerator": "TPU"
  },
  "cells": [
    {
      "cell_type": "markdown",
      "metadata": {
        "id": "view-in-github",
        "colab_type": "text"
      },
      "source": [
        "<a href=\"https://colab.research.google.com/github/neha-duggirala/Poetry-Generation/blob/master/Generating_Poetry.ipynb\" target=\"_parent\"><img src=\"https://colab.research.google.com/assets/colab-badge.svg\" alt=\"Open In Colab\"/></a>"
      ]
    },
    {
      "cell_type": "markdown",
      "metadata": {
        "id": "YLyF4KVUM-uG",
        "colab_type": "text"
      },
      "source": [
        "# **Importing all the required packages**"
      ]
    },
    {
      "cell_type": "code",
      "metadata": {
        "id": "GyxHf32KV1zX",
        "colab_type": "code",
        "outputId": "0d2ed5d2-4836-49e9-9092-79b3fd37b5c9",
        "colab": {
          "base_uri": "https://localhost:8080/",
          "height": 35
        }
      },
      "source": [
        "from tensorflow.keras.preprocessing.sequence import pad_sequences\n",
        "from tensorflow.keras.preprocessing.text import Tokenizer\n",
        "from tensorflow.keras.models import Sequential\n",
        "import numpy as np \n",
        "from tensorflow.keras.optimizers import Adam\n",
        "from tensorflow.keras import regularizers\n",
        "\"Done Importing! Ready to go..!!!\""
      ],
      "execution_count": 0,
      "outputs": [
        {
          "output_type": "execute_result",
          "data": {
            "text/plain": [
              "'Done Importing! Ready to go..!!!'"
            ]
          },
          "metadata": {
            "tags": []
          },
          "execution_count": 49
        }
      ]
    },
    {
      "cell_type": "markdown",
      "metadata": {
        "id": "IPArbSGgNJL6",
        "colab_type": "text"
      },
      "source": [
        "# **Downloading the william shakespeare sonnets dataset**"
      ]
    },
    {
      "cell_type": "code",
      "metadata": {
        "id": "m1Qpq0C7Y8lD",
        "colab_type": "code",
        "outputId": "2859c2c2-6c9d-48c7-facb-7ff0434ebff3",
        "colab": {
          "base_uri": "https://localhost:8080/",
          "height": 217
        }
      },
      "source": [
        "!wget --no-check-certificate \\\n",
        "    https://storage.googleapis.com/laurencemoroney-blog.appspot.com/sonnets.txt \\\n",
        "    -O /tmp/sonnets.txt"
      ],
      "execution_count": 0,
      "outputs": [
        {
          "output_type": "stream",
          "text": [
            "--2020-06-13 09:53:07--  https://storage.googleapis.com/laurencemoroney-blog.appspot.com/sonnets.txt\n",
            "Resolving storage.googleapis.com (storage.googleapis.com)... 172.217.212.128, 2607:f8b0:4001:c03::80\n",
            "Connecting to storage.googleapis.com (storage.googleapis.com)|172.217.212.128|:443... connected.\n",
            "HTTP request sent, awaiting response... 200 OK\n",
            "Length: 93578 (91K) [text/plain]\n",
            "Saving to: ‘/tmp/sonnets.txt’\n",
            "\n",
            "\r/tmp/sonnets.txt      0%[                    ]       0  --.-KB/s               \r/tmp/sonnets.txt    100%[===================>]  91.38K  --.-KB/s    in 0.001s  \n",
            "\n",
            "2020-06-13 09:53:07 (111 MB/s) - ‘/tmp/sonnets.txt’ saved [93578/93578]\n",
            "\n"
          ],
          "name": "stdout"
        }
      ]
    },
    {
      "cell_type": "code",
      "metadata": {
        "id": "Nbjl2o2U97iq",
        "colab_type": "code",
        "colab": {}
      },
      "source": [
        "text_file_path = '/tmp/sonnets.txt'"
      ],
      "execution_count": 0,
      "outputs": []
    },
    {
      "cell_type": "markdown",
      "metadata": {
        "id": "fH8slgJJNiOD",
        "colab_type": "text"
      },
      "source": [
        "## Reading the text data from the downloaded path"
      ]
    },
    {
      "cell_type": "code",
      "metadata": {
        "id": "le_VTOWK-UKD",
        "colab_type": "code",
        "outputId": "d997595e-3f98-4070-9cdb-0b8ccf91429d",
        "colab": {
          "base_uri": "https://localhost:8080/",
          "height": 35
        }
      },
      "source": [
        "f= open(text_file_path)\n",
        "contents =f.read()\n",
        "print(\"There are\",len(contents),\"words\")"
      ],
      "execution_count": 0,
      "outputs": [
        {
          "output_type": "stream",
          "text": [
            "There are 93578 words\n"
          ],
          "name": "stdout"
        }
      ]
    },
    {
      "cell_type": "code",
      "metadata": {
        "id": "B9_MYon0-l6H",
        "colab_type": "code",
        "colab": {}
      },
      "source": [
        "corpus = contents.lower().split(\"\\n\")\n",
        "print(\"The number of sentences in the corpus are\",len(corpus))"
      ],
      "execution_count": 0,
      "outputs": []
    },
    {
      "cell_type": "code",
      "metadata": {
        "id": "813nA1BQABKJ",
        "colab_type": "code",
        "outputId": "286cdb54-0e18-4b85-c811-e28a6292b00a",
        "colab": {
          "base_uri": "https://localhost:8080/",
          "height": 199
        }
      },
      "source": [
        "corpus[:10]"
      ],
      "execution_count": 0,
      "outputs": [
        {
          "output_type": "execute_result",
          "data": {
            "text/plain": [
              "['from fairest creatures we desire increase,',\n",
              " \"that thereby beauty's rose might never die,\",\n",
              " 'but as the riper should by time decease,',\n",
              " 'his tender heir might bear his memory:',\n",
              " 'but thou, contracted to thine own bright eyes,',\n",
              " \"feed'st thy light'st flame with self-substantial fuel,\",\n",
              " 'making a famine where abundance lies,',\n",
              " 'thyself thy foe, to thy sweet self too cruel.',\n",
              " \"thou that art now the world's fresh ornament\",\n",
              " 'and only herald to the gaudy spring,']"
            ]
          },
          "metadata": {
            "tags": []
          },
          "execution_count": 55
        }
      ]
    },
    {
      "cell_type": "markdown",
      "metadata": {
        "id": "dxH-2WsIN5QS",
        "colab_type": "text"
      },
      "source": [
        "## Tokenization"
      ]
    },
    {
      "cell_type": "code",
      "metadata": {
        "id": "9Diz-cWiAR3u",
        "colab_type": "code",
        "colab": {}
      },
      "source": [
        "tokenizer = Tokenizer()\n",
        "tokenizer.fit_on_texts(corpus)\n",
        "word_index = tokenizer.word_index\n",
        "total_words = len(tokenizer.word_index) + 1"
      ],
      "execution_count": 0,
      "outputs": []
    },
    {
      "cell_type": "code",
      "metadata": {
        "id": "mZ-1Hd5GA89I",
        "colab_type": "code",
        "outputId": "e399984f-48b2-40a2-fbef-fb82b4dddff6",
        "colab": {
          "base_uri": "https://localhost:8080/",
          "height": 35
        }
      },
      "source": [
        "corpus[0]"
      ],
      "execution_count": 0,
      "outputs": [
        {
          "output_type": "execute_result",
          "data": {
            "text/plain": [
              "'from fairest creatures we desire increase,'"
            ]
          },
          "metadata": {
            "tags": []
          },
          "execution_count": 58
        }
      ]
    },
    {
      "cell_type": "markdown",
      "metadata": {
        "id": "IFSJXhIHOAaV",
        "colab_type": "text"
      },
      "source": [
        "## Tokens to Sequences"
      ]
    },
    {
      "cell_type": "code",
      "metadata": {
        "id": "HhOfdPhgBHK0",
        "colab_type": "code",
        "colab": {}
      },
      "source": [
        "sequences = tokenizer.texts_to_sequences(corpus)"
      ],
      "execution_count": 0,
      "outputs": []
    },
    {
      "cell_type": "code",
      "metadata": {
        "id": "ww1mA_MgDhCy",
        "colab_type": "code",
        "outputId": "01e2bb50-037f-4139-a938-932ca7e762b1",
        "colab": {
          "base_uri": "https://localhost:8080/",
          "height": 35
        }
      },
      "source": [
        "sequences[0]"
      ],
      "execution_count": 0,
      "outputs": [
        {
          "output_type": "execute_result",
          "data": {
            "text/plain": [
              "[34, 417, 877, 166, 213, 517]"
            ]
          },
          "metadata": {
            "tags": []
          },
          "execution_count": 60
        }
      ]
    },
    {
      "cell_type": "markdown",
      "metadata": {
        "id": "KcY6Pny8ONZk",
        "colab_type": "text"
      },
      "source": [
        "## Creating N-grams for the poetry"
      ]
    },
    {
      "cell_type": "code",
      "metadata": {
        "id": "l0ODejSvDmGU",
        "colab_type": "code",
        "colab": {}
      },
      "source": [
        "input_sequence =[]\n",
        "for sequence in sequences:\n",
        " for itr in range(1,len(sequence)):\n",
        "   n_gram = sequence[:itr+1]\n",
        "   input_sequence.append(n_gram)"
      ],
      "execution_count": 0,
      "outputs": []
    },
    {
      "cell_type": "code",
      "metadata": {
        "id": "WKYRtwAKD7ls",
        "colab_type": "code",
        "outputId": "ce99a750-55a2-4302-f862-5b8b8e3144d6",
        "colab": {
          "base_uri": "https://localhost:8080/",
          "height": 35
        }
      },
      "source": [
        "len(input_sequence)"
      ],
      "execution_count": 0,
      "outputs": [
        {
          "output_type": "execute_result",
          "data": {
            "text/plain": [
              "15462"
            ]
          },
          "metadata": {
            "tags": []
          },
          "execution_count": 78
        }
      ]
    },
    {
      "cell_type": "code",
      "metadata": {
        "id": "FP2dCGIEHNY4",
        "colab_type": "code",
        "outputId": "39d7c29e-1edf-4f17-abb9-d776be738e7b",
        "colab": {
          "base_uri": "https://localhost:8080/",
          "height": 380
        }
      },
      "source": [
        "input_sequence[:20]"
      ],
      "execution_count": 0,
      "outputs": [
        {
          "output_type": "execute_result",
          "data": {
            "text/plain": [
              "[[34, 417],\n",
              " [34, 417, 877],\n",
              " [34, 417, 877, 166],\n",
              " [34, 417, 877, 166, 213],\n",
              " [34, 417, 877, 166, 213, 517],\n",
              " [8, 878],\n",
              " [8, 878, 134],\n",
              " [8, 878, 134, 351],\n",
              " [8, 878, 134, 351, 102],\n",
              " [8, 878, 134, 351, 102, 156],\n",
              " [8, 878, 134, 351, 102, 156, 199],\n",
              " [16, 22],\n",
              " [16, 22, 2],\n",
              " [16, 22, 2, 879],\n",
              " [16, 22, 2, 879, 61],\n",
              " [16, 22, 2, 879, 61, 30],\n",
              " [16, 22, 2, 879, 61, 30, 48],\n",
              " [16, 22, 2, 879, 61, 30, 48, 634],\n",
              " [25, 311],\n",
              " [25, 311, 635]]"
            ]
          },
          "metadata": {
            "tags": []
          },
          "execution_count": 79
        }
      ]
    },
    {
      "cell_type": "markdown",
      "metadata": {
        "id": "LwO0NjBPOVL8",
        "colab_type": "text"
      },
      "source": [
        "## Padding the sequences"
      ]
    },
    {
      "cell_type": "code",
      "metadata": {
        "id": "Po3oETckHgUo",
        "colab_type": "code",
        "colab": {}
      },
      "source": [
        "pad_seq = pad_sequences(input_sequence)"
      ],
      "execution_count": 0,
      "outputs": []
    },
    {
      "cell_type": "code",
      "metadata": {
        "id": "bhJqtsdcIwHm",
        "colab_type": "code",
        "outputId": "d3dc0bf9-f48d-4494-afe1-3c2d67e52364",
        "colab": {
          "base_uri": "https://localhost:8080/",
          "height": 399
        }
      },
      "source": [
        "pad_seq[:20]"
      ],
      "execution_count": 0,
      "outputs": [
        {
          "output_type": "execute_result",
          "data": {
            "text/plain": [
              "array([[  0,   0,   0,   0,   0,   0,   0,   0,   0,  34, 417],\n",
              "       [  0,   0,   0,   0,   0,   0,   0,   0,  34, 417, 877],\n",
              "       [  0,   0,   0,   0,   0,   0,   0,  34, 417, 877, 166],\n",
              "       [  0,   0,   0,   0,   0,   0,  34, 417, 877, 166, 213],\n",
              "       [  0,   0,   0,   0,   0,  34, 417, 877, 166, 213, 517],\n",
              "       [  0,   0,   0,   0,   0,   0,   0,   0,   0,   8, 878],\n",
              "       [  0,   0,   0,   0,   0,   0,   0,   0,   8, 878, 134],\n",
              "       [  0,   0,   0,   0,   0,   0,   0,   8, 878, 134, 351],\n",
              "       [  0,   0,   0,   0,   0,   0,   8, 878, 134, 351, 102],\n",
              "       [  0,   0,   0,   0,   0,   8, 878, 134, 351, 102, 156],\n",
              "       [  0,   0,   0,   0,   8, 878, 134, 351, 102, 156, 199],\n",
              "       [  0,   0,   0,   0,   0,   0,   0,   0,   0,  16,  22],\n",
              "       [  0,   0,   0,   0,   0,   0,   0,   0,  16,  22,   2],\n",
              "       [  0,   0,   0,   0,   0,   0,   0,  16,  22,   2, 879],\n",
              "       [  0,   0,   0,   0,   0,   0,  16,  22,   2, 879,  61],\n",
              "       [  0,   0,   0,   0,   0,  16,  22,   2, 879,  61,  30],\n",
              "       [  0,   0,   0,   0,  16,  22,   2, 879,  61,  30,  48],\n",
              "       [  0,   0,   0,  16,  22,   2, 879,  61,  30,  48, 634],\n",
              "       [  0,   0,   0,   0,   0,   0,   0,   0,   0,  25, 311],\n",
              "       [  0,   0,   0,   0,   0,   0,   0,   0,  25, 311, 635]],\n",
              "      dtype=int32)"
            ]
          },
          "metadata": {
            "tags": []
          },
          "execution_count": 81
        }
      ]
    },
    {
      "cell_type": "code",
      "metadata": {
        "id": "mwN3TXaWI6gH",
        "colab_type": "code",
        "colab": {}
      },
      "source": [
        "X=pad_seq[:,:-1]\n",
        "y = pad_seq[:,-1]"
      ],
      "execution_count": 0,
      "outputs": []
    },
    {
      "cell_type": "code",
      "metadata": {
        "id": "NC6C5QSOJjNm",
        "colab_type": "code",
        "outputId": "e9e51a1d-108f-4e11-e0c6-89a661167641",
        "colab": {
          "base_uri": "https://localhost:8080/",
          "height": 35
        }
      },
      "source": [
        "X[0],y[0]"
      ],
      "execution_count": 0,
      "outputs": [
        {
          "output_type": "execute_result",
          "data": {
            "text/plain": [
              "(array([ 0,  0,  0,  0,  0,  0,  0,  0,  0, 34], dtype=int32), 417)"
            ]
          },
          "metadata": {
            "tags": []
          },
          "execution_count": 89
        }
      ]
    },
    {
      "cell_type": "markdown",
      "metadata": {
        "id": "iOVM8YSLOaJd",
        "colab_type": "text"
      },
      "source": [
        "## Categorical labeling "
      ]
    },
    {
      "cell_type": "code",
      "metadata": {
        "id": "iveldpdzJkOm",
        "colab_type": "code",
        "outputId": "83f799d3-7504-4fae-f230-52c2dcfbb8fb",
        "colab": {
          "base_uri": "https://localhost:8080/",
          "height": 35
        }
      },
      "source": [
        "import keras\n",
        "labels = keras.utils.to_categorical(y)"
      ],
      "execution_count": 0,
      "outputs": [
        {
          "output_type": "stream",
          "text": [
            "Using TensorFlow backend.\n"
          ],
          "name": "stderr"
        }
      ]
    },
    {
      "cell_type": "markdown",
      "metadata": {
        "id": "HNFdSmHJOeXM",
        "colab_type": "text"
      },
      "source": [
        "## **Model Architecture**"
      ]
    },
    {
      "cell_type": "code",
      "metadata": {
        "id": "xIppPPZoJ4yv",
        "colab_type": "code",
        "outputId": "0584dc7b-05ba-44e3-f405-2fa82e8e91d2",
        "colab": {
          "base_uri": "https://localhost:8080/",
          "height": 399
        }
      },
      "source": [
        "from tensorflow.keras.layers import Embedding, LSTM, Dense, Dropout, Bidirectional\n",
        "model = Sequential()\n",
        "model.add(Embedding(total_words, 100, input_length=max_sequence_len-1))\n",
        "model.add(Bidirectional(LSTM(150, return_sequences = True)))\n",
        "model.add(Dropout(0.2))\n",
        "model.add(LSTM(100))\n",
        "model.add(Dense(total_words/2, activation='relu', kernel_regularizer=regularizers.l2(0.01)))\n",
        "model.add(Dense(total_words, activation='softmax'))\n",
        "model.compile(loss='categorical_crossentropy', optimizer='adam', metrics=['accuracy'])\n",
        "print(model.summary())"
      ],
      "execution_count": 0,
      "outputs": [
        {
          "output_type": "stream",
          "text": [
            "Model: \"sequential_1\"\n",
            "_________________________________________________________________\n",
            "Layer (type)                 Output Shape              Param #   \n",
            "=================================================================\n",
            "embedding (Embedding)        (None, 10, 100)           321100    \n",
            "_________________________________________________________________\n",
            "bidirectional (Bidirectional (None, 10, 300)           301200    \n",
            "_________________________________________________________________\n",
            "dropout (Dropout)            (None, 10, 300)           0         \n",
            "_________________________________________________________________\n",
            "lstm_1 (LSTM)                (None, 100)               160400    \n",
            "_________________________________________________________________\n",
            "dense (Dense)                (None, 1605)              162105    \n",
            "_________________________________________________________________\n",
            "dense_1 (Dense)              (None, 3211)              5156866   \n",
            "=================================================================\n",
            "Total params: 6,101,671\n",
            "Trainable params: 6,101,671\n",
            "Non-trainable params: 0\n",
            "_________________________________________________________________\n",
            "None\n"
          ],
          "name": "stdout"
        }
      ]
    },
    {
      "cell_type": "code",
      "metadata": {
        "id": "P41_KIUIKAd2",
        "colab_type": "code",
        "outputId": "22cf9e03-f91c-4f95-ff3f-e672e88aa257",
        "colab": {
          "base_uri": "https://localhost:8080/",
          "height": 1000
        }
      },
      "source": [
        "history = model.fit(X, labels, epochs=100, verbose=1)"
      ],
      "execution_count": 0,
      "outputs": [
        {
          "output_type": "stream",
          "text": [
            "Epoch 1/100\n",
            "484/484 [==============================] - 50s 103ms/step - loss: 6.9162 - accuracy: 0.0218\n",
            "Epoch 2/100\n",
            "484/484 [==============================] - 50s 104ms/step - loss: 6.4989 - accuracy: 0.0226\n",
            "Epoch 3/100\n",
            "484/484 [==============================] - 50s 104ms/step - loss: 6.4082 - accuracy: 0.0240\n",
            "Epoch 4/100\n",
            "484/484 [==============================] - 50s 103ms/step - loss: 6.2938 - accuracy: 0.0289\n",
            "Epoch 5/100\n",
            "484/484 [==============================] - 50s 104ms/step - loss: 6.1854 - accuracy: 0.0364\n",
            "Epoch 6/100\n",
            "484/484 [==============================] - 50s 104ms/step - loss: 6.0940 - accuracy: 0.0408\n",
            "Epoch 7/100\n",
            "484/484 [==============================] - 50s 104ms/step - loss: 6.0157 - accuracy: 0.0422\n",
            "Epoch 8/100\n",
            "484/484 [==============================] - 50s 103ms/step - loss: 5.9401 - accuracy: 0.0475\n",
            "Epoch 9/100\n",
            "484/484 [==============================] - 50s 104ms/step - loss: 5.8458 - accuracy: 0.0496\n",
            "Epoch 10/100\n",
            "484/484 [==============================] - 50s 104ms/step - loss: 5.7387 - accuracy: 0.0582\n",
            "Epoch 11/100\n",
            "484/484 [==============================] - 50s 103ms/step - loss: 5.6246 - accuracy: 0.0646\n",
            "Epoch 12/100\n",
            "484/484 [==============================] - 50s 104ms/step - loss: 5.5144 - accuracy: 0.0689\n",
            "Epoch 13/100\n",
            "484/484 [==============================] - 51s 105ms/step - loss: 5.4091 - accuracy: 0.0763\n",
            "Epoch 14/100\n",
            "484/484 [==============================] - 50s 104ms/step - loss: 5.2979 - accuracy: 0.0822\n",
            "Epoch 15/100\n",
            "484/484 [==============================] - 50s 104ms/step - loss: 5.1913 - accuracy: 0.0874\n",
            "Epoch 16/100\n",
            "484/484 [==============================] - 50s 104ms/step - loss: 5.0887 - accuracy: 0.0941\n",
            "Epoch 17/100\n",
            "484/484 [==============================] - 50s 104ms/step - loss: 4.9891 - accuracy: 0.1026\n",
            "Epoch 18/100\n",
            "484/484 [==============================] - 51s 104ms/step - loss: 4.8907 - accuracy: 0.1063\n",
            "Epoch 19/100\n",
            "484/484 [==============================] - 50s 104ms/step - loss: 4.7881 - accuracy: 0.1140\n",
            "Epoch 20/100\n",
            "484/484 [==============================] - 50s 104ms/step - loss: 4.6932 - accuracy: 0.1240\n",
            "Epoch 21/100\n",
            "484/484 [==============================] - 50s 104ms/step - loss: 4.5849 - accuracy: 0.1335\n",
            "Epoch 22/100\n",
            "484/484 [==============================] - 50s 104ms/step - loss: 4.4796 - accuracy: 0.1445\n",
            "Epoch 23/100\n",
            "484/484 [==============================] - 50s 104ms/step - loss: 4.3862 - accuracy: 0.1554\n",
            "Epoch 24/100\n",
            "484/484 [==============================] - 50s 104ms/step - loss: 4.2763 - accuracy: 0.1678\n",
            "Epoch 25/100\n",
            "484/484 [==============================] - 50s 104ms/step - loss: 4.1719 - accuracy: 0.1790\n",
            "Epoch 26/100\n",
            "484/484 [==============================] - 50s 104ms/step - loss: 4.0750 - accuracy: 0.1935\n",
            "Epoch 27/100\n",
            "484/484 [==============================] - 50s 104ms/step - loss: 3.9766 - accuracy: 0.2048\n",
            "Epoch 28/100\n",
            "484/484 [==============================] - 50s 104ms/step - loss: 3.8778 - accuracy: 0.2229\n",
            "Epoch 29/100\n",
            "484/484 [==============================] - 50s 104ms/step - loss: 3.7809 - accuracy: 0.2377\n",
            "Epoch 30/100\n",
            "484/484 [==============================] - 50s 104ms/step - loss: 3.6895 - accuracy: 0.2570\n",
            "Epoch 31/100\n",
            "484/484 [==============================] - 51s 105ms/step - loss: 3.6088 - accuracy: 0.2753\n",
            "Epoch 32/100\n",
            "484/484 [==============================] - 50s 104ms/step - loss: 3.5161 - accuracy: 0.2908\n",
            "Epoch 33/100\n",
            "484/484 [==============================] - 50s 104ms/step - loss: 3.4308 - accuracy: 0.3129\n",
            "Epoch 34/100\n",
            "484/484 [==============================] - 50s 104ms/step - loss: 3.3467 - accuracy: 0.3275\n",
            "Epoch 35/100\n",
            "484/484 [==============================] - 50s 103ms/step - loss: 3.2750 - accuracy: 0.3413\n",
            "Epoch 36/100\n",
            "484/484 [==============================] - 51s 104ms/step - loss: 3.1853 - accuracy: 0.3624\n",
            "Epoch 37/100\n",
            "484/484 [==============================] - 50s 104ms/step - loss: 3.1231 - accuracy: 0.3770\n",
            "Epoch 38/100\n",
            "484/484 [==============================] - 50s 104ms/step - loss: 3.0565 - accuracy: 0.3948\n",
            "Epoch 39/100\n",
            "484/484 [==============================] - 50s 104ms/step - loss: 2.9745 - accuracy: 0.4118\n",
            "Epoch 40/100\n",
            "484/484 [==============================] - 50s 104ms/step - loss: 2.9091 - accuracy: 0.4318\n",
            "Epoch 41/100\n",
            "484/484 [==============================] - 50s 104ms/step - loss: 2.8462 - accuracy: 0.4426\n",
            "Epoch 42/100\n",
            "484/484 [==============================] - 50s 104ms/step - loss: 2.7708 - accuracy: 0.4595\n",
            "Epoch 43/100\n",
            "484/484 [==============================] - 50s 103ms/step - loss: 2.7251 - accuracy: 0.4706\n",
            "Epoch 44/100\n",
            "484/484 [==============================] - 50s 103ms/step - loss: 2.6738 - accuracy: 0.4779\n",
            "Epoch 45/100\n",
            "484/484 [==============================] - 50s 104ms/step - loss: 2.6062 - accuracy: 0.4966\n",
            "Epoch 46/100\n",
            "484/484 [==============================] - 50s 104ms/step - loss: 2.5519 - accuracy: 0.5126\n",
            "Epoch 47/100\n",
            "484/484 [==============================] - 50s 104ms/step - loss: 2.5063 - accuracy: 0.5151\n",
            "Epoch 48/100\n",
            "484/484 [==============================] - 50s 104ms/step - loss: 2.4473 - accuracy: 0.5336\n",
            "Epoch 49/100\n",
            "484/484 [==============================] - 51s 105ms/step - loss: 2.3985 - accuracy: 0.5442\n",
            "Epoch 50/100\n",
            "484/484 [==============================] - 51s 105ms/step - loss: 2.3576 - accuracy: 0.5536\n",
            "Epoch 51/100\n",
            "484/484 [==============================] - 55s 115ms/step - loss: 2.3066 - accuracy: 0.5652\n",
            "Epoch 52/100\n",
            "484/484 [==============================] - 51s 104ms/step - loss: 2.2568 - accuracy: 0.5771\n",
            "Epoch 53/100\n",
            "484/484 [==============================] - 51s 104ms/step - loss: 2.2132 - accuracy: 0.5848\n",
            "Epoch 54/100\n",
            "484/484 [==============================] - 51s 105ms/step - loss: 2.1787 - accuracy: 0.5916\n",
            "Epoch 55/100\n",
            "484/484 [==============================] - 51s 105ms/step - loss: 2.1302 - accuracy: 0.6048\n",
            "Epoch 56/100\n",
            "484/484 [==============================] - 51s 105ms/step - loss: 2.0843 - accuracy: 0.6151\n",
            "Epoch 57/100\n",
            "484/484 [==============================] - 50s 104ms/step - loss: 2.0491 - accuracy: 0.6220\n",
            "Epoch 58/100\n",
            "484/484 [==============================] - 50s 104ms/step - loss: 2.0166 - accuracy: 0.6265\n",
            "Epoch 59/100\n",
            "484/484 [==============================] - 50s 104ms/step - loss: 1.9872 - accuracy: 0.6353\n",
            "Epoch 60/100\n",
            "484/484 [==============================] - 50s 104ms/step - loss: 1.9517 - accuracy: 0.6422\n",
            "Epoch 61/100\n",
            "484/484 [==============================] - 50s 104ms/step - loss: 1.9148 - accuracy: 0.6484\n",
            "Epoch 62/100\n",
            "484/484 [==============================] - 50s 104ms/step - loss: 1.8822 - accuracy: 0.6564\n",
            "Epoch 63/100\n",
            "484/484 [==============================] - 56s 115ms/step - loss: 1.8471 - accuracy: 0.6658\n",
            "Epoch 64/100\n",
            "484/484 [==============================] - 50s 104ms/step - loss: 1.8101 - accuracy: 0.6746\n",
            "Epoch 65/100\n",
            "484/484 [==============================] - 50s 104ms/step - loss: 1.7799 - accuracy: 0.6788\n",
            "Epoch 66/100\n",
            "484/484 [==============================] - 51s 105ms/step - loss: 1.7474 - accuracy: 0.6882\n",
            "Epoch 67/100\n",
            "484/484 [==============================] - 51s 105ms/step - loss: 1.7423 - accuracy: 0.6894\n",
            "Epoch 68/100\n",
            "484/484 [==============================] - 51s 104ms/step - loss: 1.7173 - accuracy: 0.6896\n",
            "Epoch 69/100\n",
            "484/484 [==============================] - 50s 104ms/step - loss: 1.6858 - accuracy: 0.7003\n",
            "Epoch 70/100\n",
            "484/484 [==============================] - 51s 104ms/step - loss: 1.6485 - accuracy: 0.7083\n",
            "Epoch 71/100\n",
            "484/484 [==============================] - 51s 105ms/step - loss: 1.6320 - accuracy: 0.7096\n",
            "Epoch 72/100\n",
            "484/484 [==============================] - 51s 105ms/step - loss: 1.6045 - accuracy: 0.7150\n",
            "Epoch 73/100\n",
            "484/484 [==============================] - 51s 104ms/step - loss: 1.5945 - accuracy: 0.7156\n",
            "Epoch 74/100\n",
            "484/484 [==============================] - 51s 105ms/step - loss: 1.5712 - accuracy: 0.7209\n",
            "Epoch 75/100\n",
            "484/484 [==============================] - 50s 104ms/step - loss: 1.5386 - accuracy: 0.7333\n",
            "Epoch 76/100\n",
            "484/484 [==============================] - 50s 104ms/step - loss: 1.5240 - accuracy: 0.7312\n",
            "Epoch 77/100\n",
            "484/484 [==============================] - 51s 105ms/step - loss: 1.4999 - accuracy: 0.7390\n",
            "Epoch 78/100\n",
            "484/484 [==============================] - 51s 105ms/step - loss: 1.4689 - accuracy: 0.7418\n",
            "Epoch 79/100\n",
            "484/484 [==============================] - 50s 104ms/step - loss: 1.4508 - accuracy: 0.7476\n",
            "Epoch 80/100\n",
            "484/484 [==============================] - 50s 104ms/step - loss: 1.4507 - accuracy: 0.7480\n",
            "Epoch 81/100\n",
            "484/484 [==============================] - 50s 104ms/step - loss: 1.4363 - accuracy: 0.7490\n",
            "Epoch 82/100\n",
            "484/484 [==============================] - 50s 104ms/step - loss: 1.4215 - accuracy: 0.7498\n",
            "Epoch 83/100\n",
            "484/484 [==============================] - 50s 103ms/step - loss: 1.3900 - accuracy: 0.7620\n",
            "Epoch 84/100\n",
            "484/484 [==============================] - 50s 104ms/step - loss: 1.3728 - accuracy: 0.7610\n",
            "Epoch 85/100\n",
            "484/484 [==============================] - 50s 103ms/step - loss: 1.3619 - accuracy: 0.7626\n",
            "Epoch 86/100\n",
            "484/484 [==============================] - 60s 125ms/step - loss: 1.3435 - accuracy: 0.7672\n",
            "Epoch 87/100\n",
            "484/484 [==============================] - 51s 105ms/step - loss: 1.3261 - accuracy: 0.7709\n",
            "Epoch 88/100\n",
            "484/484 [==============================] - 51s 106ms/step - loss: 1.3100 - accuracy: 0.7722\n",
            "Epoch 89/100\n",
            "484/484 [==============================] - 51s 106ms/step - loss: 1.3082 - accuracy: 0.7731\n",
            "Epoch 90/100\n",
            "484/484 [==============================] - 51s 106ms/step - loss: 1.2820 - accuracy: 0.7768\n",
            "Epoch 91/100\n",
            "484/484 [==============================] - 51s 106ms/step - loss: 1.3020 - accuracy: 0.7707\n",
            "Epoch 92/100\n",
            "484/484 [==============================] - 51s 106ms/step - loss: 1.2839 - accuracy: 0.7746\n",
            "Epoch 93/100\n",
            "484/484 [==============================] - 51s 106ms/step - loss: 1.2579 - accuracy: 0.7786\n",
            "Epoch 94/100\n",
            "484/484 [==============================] - 51s 105ms/step - loss: 1.2287 - accuracy: 0.7892\n",
            "Epoch 95/100\n",
            "484/484 [==============================] - 51s 106ms/step - loss: 1.2200 - accuracy: 0.7879\n",
            "Epoch 96/100\n",
            "484/484 [==============================] - 51s 105ms/step - loss: 1.2313 - accuracy: 0.7831\n",
            "Epoch 97/100\n",
            "484/484 [==============================] - 51s 106ms/step - loss: 1.2151 - accuracy: 0.7886\n",
            "Epoch 98/100\n",
            "484/484 [==============================] - 56s 116ms/step - loss: 1.1871 - accuracy: 0.7952\n",
            "Epoch 99/100\n",
            "484/484 [==============================] - 51s 105ms/step - loss: 1.1846 - accuracy: 0.7936\n",
            "Epoch 100/100\n",
            "484/484 [==============================] - 51s 105ms/step - loss: 1.1813 - accuracy: 0.7930\n"
          ],
          "name": "stdout"
        }
      ]
    },
    {
      "cell_type": "markdown",
      "metadata": {
        "id": "SkjcIzBdOxHe",
        "colab_type": "text"
      },
      "source": [
        "## **Accuracy Vs Epochs** "
      ]
    },
    {
      "cell_type": "code",
      "metadata": {
        "id": "CPNRRBYbcA-2",
        "colab_type": "code",
        "colab": {}
      },
      "source": [
        "model.save(\"/content/model.h5\")"
      ],
      "execution_count": 0,
      "outputs": []
    },
    {
      "cell_type": "code",
      "metadata": {
        "id": "4hyj2xNqeO8k",
        "colab_type": "code",
        "outputId": "c219aa56-f515-43b8-fe5d-f5bb38d01b21",
        "colab": {
          "base_uri": "https://localhost:8080/",
          "height": 35
        }
      },
      "source": [
        "!ls /content/"
      ],
      "execution_count": 0,
      "outputs": [
        {
          "output_type": "stream",
          "text": [
            "sample_data  shakespeare.txt\n"
          ],
          "name": "stdout"
        }
      ]
    },
    {
      "cell_type": "code",
      "metadata": {
        "id": "qXyjYPszKBv-",
        "colab_type": "code",
        "outputId": "41b69bc7-844d-4f97-eaed-786c0dfe9d72",
        "colab": {
          "base_uri": "https://localhost:8080/",
          "height": 545
        }
      },
      "source": [
        "import matplotlib.pyplot as plt\n",
        "acc = history.history['accuracy']\n",
        "loss = history.history['loss']\n",
        "\n",
        "epochs = range(len(acc))\n",
        "\n",
        "plt.plot(epochs, acc, 'b', label='Training accuracy')\n",
        "plt.title('Training accuracy')\n",
        "\n",
        "plt.figure()\n",
        "\n",
        "plt.plot(epochs, loss, 'b', label='Training Loss')\n",
        "plt.title('Training loss')\n",
        "plt.legend()\n",
        "\n",
        "plt.show()"
      ],
      "execution_count": 0,
      "outputs": [
        {
          "output_type": "display_data",
          "data": {
            "image/png": "[encoded data removed]",
            "text/plain": [
              "<Figure size 432x288 with 1 Axes>"
            ]
          },
          "metadata": {
            "tags": [],
            "needs_background": "light"
          }
        },
        {
          "output_type": "display_data",
          "data": {
            "image/png": "[encoded data removed]",
            "text/plain": [
              "<Figure size 432x288 with 1 Axes>"
            ]
          },
          "metadata": {
            "tags": [],
            "needs_background": "light"
          }
        }
      ]
    },
    {
      "cell_type": "markdown",
      "metadata": {
        "id": "HRxno0DMO67-",
        "colab_type": "text"
      },
      "source": [
        "# *Tada..! Ready to generate some poetry*"
      ]
    },
    {
      "cell_type": "code",
      "metadata": {
        "id": "7pGRby2iKP0Q",
        "colab_type": "code",
        "outputId": "723f67bb-3a80-4eed-ed04-9f3b1805dc90",
        "colab": {
          "base_uri": "https://localhost:8080/",
          "height": 110
        }
      },
      "source": [
        "seed_text = \"you're my only love\"\n",
        "next_words = 100\n",
        "  \n",
        "for _ in range(next_words):\n",
        "\ttoken_list = tokenizer.texts_to_sequences([seed_text])[0]\n",
        "\ttoken_list = pad_sequences([token_list], maxlen=max_sequence_len-1, padding='pre')\n",
        "\tpredicted = model.predict_classes(token_list, verbose=0)\n",
        "\toutput_word = \"\"\n",
        "\tfor word, index in tokenizer.word_index.items():\n",
        "\t\tif index == predicted:\n",
        "\t\t\toutput_word = word\n",
        "\t\t\tbreak\n",
        "\tseed_text += \" \" + output_word\n",
        "print(seed_text)"
      ],
      "execution_count": 0,
      "outputs": [
        {
          "output_type": "stream",
          "text": [
            "WARNING:tensorflow:From <ipython-input-111-9e0fd6391289>:7: Sequential.predict_classes (from tensorflow.python.keras.engine.sequential) is deprecated and will be removed after 2021-01-01.\n",
            "Instructions for updating:\n",
            "Please use instead:* `np.argmax(model.predict(x), axis=-1)`,   if your model does multi-class classification   (e.g. if it uses a `softmax` last-layer activation).* `(model.predict(x) > 0.5).astype(\"int32\")`,   if your model does binary classification   (e.g. if it uses a `sigmoid` last-layer activation).\n",
            "you're my only as my slight part and ever another end chary near date days seen gone find be days exceeds say me new change thee true my rhyme ' alone to give forth men twain cross reap nearly deem'd nearly nearly days seen bring up hate new twain twain do do say men bright best bright ' live deem'd deem'd seen more rage than night away new days suppress'd convert hence made new true eyes new old eyes heir rare worth in thee new me not so new ' contains live seen change eye to so more rare 'will ' alone alone\n"
          ],
          "name": "stdout"
        }
      ]
    },
    {
      "cell_type": "code",
      "metadata": {
        "id": "n5RTNnIyeiHH",
        "colab_type": "code",
        "colab": {}
      },
      "source": [
        ""
      ],
      "execution_count": 0,
      "outputs": []
    }
  ]
}